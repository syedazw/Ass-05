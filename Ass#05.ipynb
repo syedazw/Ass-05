{
 "cells": [
  {
   "cell_type": "markdown",
   "id": "d4f54418-e71d-49df-bf87-52abd9275b37",
   "metadata": {},
   "source": [
    "# 1."
   ]
  },
  {
   "cell_type": "code",
   "execution_count": 1,
   "id": "064f7d44-f945-4a6f-9a57-53235ba52fce",
   "metadata": {},
   "outputs": [
    {
     "name": "stdout",
     "output_type": "stream",
     "text": [
      "Employee 1: (1, 'John Doe', 'HR')\n",
      "Employee 2: (2, 'Jane Smith', 'IT')\n",
      "Employee 3: (3, 'Alice Johnson', 'Finance')\n",
      "Employee 4: (4, 'Bob Brown', 'Marketing')  \n"
     ]
    }
   ],
   "source": [
    "emp1 = (1, \"John Doe\", \"HR\")\n",
    "emp2 = (2, \"Jane Smith\", \"IT\")\n",
    "emp3 = (3, \"Alice Johnson\", \"Finance\")\n",
    "emp4 = (4, \"Bob Brown\", \"Marketing\")\n",
    "\n",
    "emp_records = [emp1, emp2, emp3, emp4]\n",
    "\n",
    "print(f\"Employee 1: {emp_records[0]}\\nEmployee 2: {emp_records[1]}\\nEmployee 3: {emp_records[2]}\\nEmployee 4: {emp_records[3]}  \")"
   ]
  },
  {
   "cell_type": "markdown",
   "id": "5e7dfee4-7668-4782-a8ec-cf9a552e23aa",
   "metadata": {},
   "source": [
    "# 2."
   ]
  },
  {
   "cell_type": "code",
   "execution_count": 2,
   "id": "bbc8acba-5faf-4a38-9a79-958b322f8b76",
   "metadata": {},
   "outputs": [
    {
     "name": "stdout",
     "output_type": "stream",
     "text": [
      "\n",
      "Item ID: 101\n",
      "Description: Laptop\n",
      "Quantity Available: 25\n",
      "\n",
      "Item ID: 102\n",
      "Description: Apples\n",
      "Quantity Available: 50\n",
      "\n",
      "Item ID: 103\n",
      "Description: Sandwitches\n",
      "Quantity Available: 30\n",
      "\n",
      "Item ID: 104\n",
      "Description: Bags\n",
      "Quantity Available: 100\n"
     ]
    }
   ],
   "source": [
    "inventory = []\n",
    "\n",
    "inventory.append((101, \"Laptop\", 25))\n",
    "inventory.append((102, \"Apples\", 50))\n",
    "inventory.append((103, \"Sandwitches\", 30))\n",
    "inventory.append((104, \"Bags\", 100))\n",
    "\n",
    "for items in inventory:\n",
    "    print(f\"\\nItem ID: {items[0]}\\nDescription: {items[1]}\\nQuantity Available: {items[2]}\")"
   ]
  },
  {
   "cell_type": "markdown",
   "id": "6af8b3b3-e677-4c7c-bf73-deef61e01f6a",
   "metadata": {},
   "source": [
    "# 3."
   ]
  },
  {
   "cell_type": "code",
   "execution_count": 3,
   "id": "4d0b3e18-74a9-418c-8416-f9e781d4a73e",
   "metadata": {},
   "outputs": [
    {
     "name": "stdout",
     "output_type": "stream",
     "text": [
      "\n",
      "Event: Team Meeting\n",
      "Date and Time: 2024-08-18 10:30\n",
      "\n",
      "Event: Doctor Appointment\n",
      "Date and Time: 2024-08-19 14:00\n",
      "\n",
      "Event: Project Deadline\n",
      "Date and Time: 2024-08-20 17:00\n",
      "\n",
      "Event: Lunch with Client\n",
      "Date and Time: 2024-08-21 12:30\n"
     ]
    }
   ],
   "source": [
    "from datetime import datetime\n",
    "\n",
    "scheduled_events = []\n",
    "scheduled_events.append((\"Team Meeting\", datetime(2024, 8, 18, 10, 30)))\n",
    "scheduled_events.append((\"Doctor Appointment\", datetime(2024, 8, 19, 14, 0)))\n",
    "scheduled_events.append((\"Project Deadline\", datetime(2024, 8, 20, 17, 0)))\n",
    "scheduled_events.append((\"Lunch with Client\", datetime(2024, 8, 21, 12, 30)))\n",
    "\n",
    "# Accessing scheduled events\n",
    "for events in scheduled_events:\n",
    "    print(f\"\\nEvent: {events[0]}\\nDate and Time: {events[1].strftime('%Y-%m-%d %H:%M')}\")"
   ]
  },
  {
   "cell_type": "markdown",
   "id": "3544ea03-3e9b-4337-b66f-7b82dc8d2ba2",
   "metadata": {},
   "source": [
    "# 4."
   ]
  },
  {
   "cell_type": "code",
   "execution_count": 4,
   "id": "910008e8-cb73-4b13-8d5e-2f7238ad5d00",
   "metadata": {},
   "outputs": [
    {
     "name": "stdout",
     "output_type": "stream",
     "text": [
      "\n",
      "Department: HR\n",
      "ID: 1, Name: John Doe, Position: HR Manager, Salary: $60000\n",
      "ID: 2, Name: Jane Roe, Position: Recruiter, Salary: $45000\n",
      "\n",
      "Department: IT\n",
      "ID: 3, Name: Alice Smith, Position: Software Engineer, Salary: $85000\n",
      "ID: 4, Name: Bob Johnson, Position: System Administrator, Salary: $70000\n",
      "\n",
      "Department: Finance\n",
      "ID: 5, Name: Charlie Brown, Position: Accountant, Salary: $50000\n",
      "ID: 6, Name: Dana White, Position: Financial Analyst, Salary: $55000\n"
     ]
    }
   ],
   "source": [
    "company_employees = {\n",
    "    \"HR\": { 1: {\"Name\": \"John Doe\", \"Position\": \"HR Manager\", \"Salary\": 60000}, 2: {\"Name\": \"Jane Roe\", \"Position\": \"Recruiter\", \"Salary\": 45000}},\n",
    "    \"IT\": { 3: {\"Name\": \"Alice Smith\", \"Position\": \"Software Engineer\", \"Salary\": 85000}, 4: {\"Name\": \"Bob Johnson\", \"Position\": \"System Administrator\", \"Salary\": 70000}},\n",
    "    \"Finance\": { 5: {\"Name\": \"Charlie Brown\", \"Position\": \"Accountant\", \"Salary\": 50000}, 6: {\"Name\": \"Dana White\", \"Position\": \"Financial Analyst\", \"Salary\": 55000}}\n",
    "}\n",
    "\n",
    "for dept, emp in company_employees.items():\n",
    "    print(f\"\\nDepartment: {dept}\")\n",
    "    for emp_id, details in emp.items():\n",
    "        print(f\"ID: {emp_id}, Name: {details['Name']}, Position: {details['Position']}, Salary: ${details['Salary']}\")"
   ]
  },
  {
   "cell_type": "markdown",
   "id": "a6afcb62-e429-495c-ac66-f351f4879bd9",
   "metadata": {},
   "source": [
    "# 5."
   ]
  },
  {
   "cell_type": "code",
   "execution_count": 7,
   "id": "81767c4f-d255-4dc7-8896-6f1c5e940c0b",
   "metadata": {},
   "outputs": [
    {
     "name": "stdin",
     "output_type": "stream",
     "text": [
      "Enter Student Name: Alice\n"
     ]
    },
    {
     "name": "stdout",
     "output_type": "stream",
     "text": [
      "Alice's scores are:\n",
      "Math: 85\n",
      "English: 92\n",
      "Science: 88\n"
     ]
    }
   ],
   "source": [
    "students_scores = [\n",
    "    {\"Name\": \"Alice\", \"Scores\": {\"Math\": 85, \"English\": 92, \"Science\": 88}},\n",
    "    {\"Name\": \"Bob\", \"Scores\": {\"Math\": 78, \"English\": 81, \"Science\": 90}},\n",
    "    {\"Name\": \"Charlie\", \"Scores\": {\"Math\": 92, \"English\": 87, \"Science\": 85}},\n",
    "    {\"Name\": \"Diana\", \"Scores\": {\"Math\": 88, \"English\": 94, \"Science\": 91}},\n",
    "]\n",
    "\n",
    "student_name = str(input(\"Enter Student Name:\"))\n",
    "for student in students_scores:\n",
    "    if student[\"Name\"] == student_name:\n",
    "        student_scores = student[\"Scores\"]\n",
    "        break\n",
    "\n",
    "if student_scores:\n",
    "    print(f\"{student_name}'s scores are:\")\n",
    "    for subject, score in student_scores.items():\n",
    "        print(f\"{subject}: {score}\")\n",
    "else:\n",
    "    print(f\"No scores found for {student_name}.\")"
   ]
  },
  {
   "cell_type": "markdown",
   "id": "77701ef4-4df4-436b-a2a1-c6d47a112693",
   "metadata": {},
   "source": [
    "# 6."
   ]
  },
  {
   "cell_type": "code",
   "execution_count": 9,
   "id": "a4b29bb5-ee36-4646-80c9-0ed81d7557e9",
   "metadata": {},
   "outputs": [
    {
     "name": "stdout",
     "output_type": "stream",
     "text": [
      "{'Task 1: Initial Research', 'Task 3: Development', 'Task 2: Design Phase'}\n",
      "Tasks for Science Project:\n",
      "- Task 1: Initial Research\n",
      "- Task 3: Development\n",
      "- Task 2: Design Phase\n"
     ]
    }
   ],
   "source": [
    "projects = {\n",
    "    \"Science Project\": {\"Task 1: Initial Research\", \"Task 2: Design Phase\", \"Task 3: Development\"},\n",
    "    \"Art Project\": {\"Task 1: Requirements Gathering\", \"Task 2: Prototyping\", \"Task 3: Testing\"},\n",
    "    \"Social Media Project\": {\"Task 1: Market Analysis\", \"Task 2: Strategy Planning\", \"Task 3: Execution\"},\n",
    "}\n",
    "\n",
    "project_name = \"Science Project\"\n",
    "tasks = projects.get(project_name)\n",
    "\n",
    "if tasks:\n",
    "    print(f\"Tasks for {project_name}:\")\n",
    "    for task in tasks:\n",
    "        print(f\"- {task}\")\n",
    "else:\n",
    "    print(f\"No tasks found for {project_name}.\")"
   ]
  },
  {
   "cell_type": "markdown",
   "id": "adc74661-bd13-4bc9-8396-de0b698a15a8",
   "metadata": {},
   "source": [
    "# 7."
   ]
  },
  {
   "cell_type": "code",
   "execution_count": 18,
   "id": "2b16ebdd-9063-4ddd-bc4b-e5afa2671391",
   "metadata": {},
   "outputs": [
    {
     "name": "stdin",
     "output_type": "stream",
     "text": [
      "Enter Course Name: Web development\n",
      "Enter Module Name: Module 1\n"
     ]
    },
    {
     "name": "stdout",
     "output_type": "stream",
     "text": [
      "\n",
      "Details of Module 1 in Web development:\n",
      "Title: HTML & CSS\n",
      "Duration: 3 hours\n",
      "Topics Covered:\n",
      "- HTML Basics\n",
      "- CSS Styling\n",
      "- Responsive Design\n"
     ]
    }
   ],
   "source": [
    "training_program = {\n",
    "    \"Python programming\": {\n",
    "        \"Module 1\": {\"Title\": \"Introduction to Python\", \"Duration\": \"2 hours\", \"Topics\": [\"Variables\", \"Data Types\", \"Basic Syntax\"]},\n",
    "        \"Module 2\": {\"Title\": \"Control Structures\", \"Duration\": \"3 hours\", \"Topics\": [\"If Statements\", \"Loops\", \"Functions\"]},\n",
    "        \"Module 3\": {\"Title\": \"OOP\", \"Duration\": \"4 hours\", \"Topics\": [\"Classes\", \"Objects\", \"Inheritance\"]},\n",
    "    },\n",
    "    \"Data science\": {\n",
    "        \"Module 1\": {\"Title\": \"Data Analysis with Python\", \"Duration\": \"5 hours\", \"Topics\": [\"Pandas\", \"NumPy\", \"Data Visualization\"]},\n",
    "        \"Module 2\": {\"Title\": \"ML Basics\", \"Duration\": \"6 hours\", \"Topics\": [\"Supervised Learning\", \"Unsupervised Learning\", \"Model Evaluation\"]},\n",
    "        \"Module 3\": {\"Title\": \"Deep Learning\", \"Duration\": \"7 hours\", \"Topics\": [\"Neural Networks\", \"TensorFlow\", \"Keras\"]},\n",
    "    },\n",
    "    \"Web development\": {\n",
    "        \"Module 1\": {\"Title\": \"HTML & CSS\", \"Duration\": \"3 hours\", \"Topics\": [\"HTML Basics\", \"CSS Styling\", \"Responsive Design\"]},\n",
    "        \"Module 2\": {\"Title\": \"JavaScript Essentials\", \"Duration\": \"4 hours\", \"Topics\": [\"JavaScript Basics\", \"DOM Manipulation\", \"Event Handling\"]},\n",
    "        \"Module 3\": {\"Title\": \"Backend Development\", \"Duration\": \"5 hours\", \"Topics\": [\"Node.js\", \"Express.js\", \"Databases\"]},\n",
    "    }\n",
    "}\n",
    "\n",
    "course_name = str(input(\"Enter Course Name:\"))\n",
    "module_name = str(input(\"Enter Module Name:\"))\n",
    "\n",
    "module_details = training_program.get(course_name).get(module_name)\n",
    "\n",
    "if module_details:\n",
    "    print(f\"\\nDetails of {module_name} in {course_name}:\")\n",
    "    print(f\"Title: {module_details['Title']}\")\n",
    "    print(f\"Duration: {module_details['Duration']}\")\n",
    "    print(\"Topics Covered:\")\n",
    "    for topic in module_details[\"Topics\"]:\n",
    "        print(f\"- {topic}\")\n",
    "else:\n",
    "    print(f\"No details found for {module_name} in {course_name}.\")"
   ]
  },
  {
   "cell_type": "markdown",
   "id": "d317515b-c1ea-49e7-8179-a4654a74ef86",
   "metadata": {},
   "source": [
    "# 8."
   ]
  },
  {
   "cell_type": "code",
   "execution_count": 29,
   "id": "4bfe59d9-afea-4035-959e-a5d4f80ef3bf",
   "metadata": {},
   "outputs": [
    {
     "name": "stdout",
     "output_type": "stream",
     "text": [
      "Products below $500:\n",
      "Headphones: $150\n",
      "Monitor: $300\n",
      "Keyboard: $50\n",
      "Mouse: $25\n"
     ]
    }
   ],
   "source": [
    "products = [\n",
    "    (\"Laptop\", 1000),\n",
    "    (\"Smartphone\", 800),\n",
    "    (\"Headphones\", 150),\n",
    "    (\"Monitor\", 300),\n",
    "    (\"Keyboard\", 50),\n",
    "    (\"Mouse\", 25)\n",
    "]\n",
    "\n",
    "price_threshold = 500\n",
    "affordable_products = []\n",
    "\n",
    "for product in products:\n",
    "    name, price = product  #unpack tuples\n",
    "    if price < price_threshold:\n",
    "        affordable_products.append(product)\n",
    "\n",
    "print(f\"Products Price below ${price_threshold}:\")\n",
    "for name, price in affordable_products:\n",
    "    print(f\"{name}: ${price}\")"
   ]
  },
  {
   "cell_type": "code",
   "execution_count": null,
   "id": "45118471-d2e5-4341-a873-bae9a94f1e07",
   "metadata": {},
   "outputs": [],
   "source": []
  }
 ],
 "metadata": {
  "kernelspec": {
   "display_name": "Python 3 (ipykernel)",
   "language": "python",
   "name": "python3"
  },
  "language_info": {
   "codemirror_mode": {
    "name": "ipython",
    "version": 3
   },
   "file_extension": ".py",
   "mimetype": "text/x-python",
   "name": "python",
   "nbconvert_exporter": "python",
   "pygments_lexer": "ipython3",
   "version": "3.11.7"
  }
 },
 "nbformat": 4,
 "nbformat_minor": 5
}
